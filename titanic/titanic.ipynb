{
 "cells": [
  {
   "cell_type": "markdown",
   "id": "6c2a5065-efba-4b7b-a12b-77810965118b",
   "metadata": {},
   "source": [
    "# Titanic: starter ML competition"
   ]
  },
  {
   "cell_type": "markdown",
   "id": "1f3d3b45-3e88-492e-858d-2168a556fd71",
   "metadata": {},
   "source": [
    "## Setup"
   ]
  },
  {
   "cell_type": "code",
   "execution_count": 4,
   "id": "db1234bc-7531-4643-925f-a368cd0af195",
   "metadata": {},
   "outputs": [
    {
     "name": "stdout",
     "output_type": "stream",
     "text": [
      "     PassengerId  Survived  Pclass  \\\n",
      "0              1         0       3   \n",
      "1              2         1       1   \n",
      "2              3         1       3   \n",
      "3              4         1       1   \n",
      "4              5         0       3   \n",
      "..           ...       ...     ...   \n",
      "886          887         0       2   \n",
      "887          888         1       1   \n",
      "888          889         0       3   \n",
      "889          890         1       1   \n",
      "890          891         0       3   \n",
      "\n",
      "                                                  Name     Sex   Age  SibSp  \\\n",
      "0                              Braund, Mr. Owen Harris    male  22.0      1   \n",
      "1    Cumings, Mrs. John Bradley (Florence Briggs Th...  female  38.0      1   \n",
      "2                               Heikkinen, Miss. Laina  female  26.0      0   \n",
      "3         Futrelle, Mrs. Jacques Heath (Lily May Peel)  female  35.0      1   \n",
      "4                             Allen, Mr. William Henry    male  35.0      0   \n",
      "..                                                 ...     ...   ...    ...   \n",
      "886                              Montvila, Rev. Juozas    male  27.0      0   \n",
      "887                       Graham, Miss. Margaret Edith  female  19.0      0   \n",
      "888           Johnston, Miss. Catherine Helen \"Carrie\"  female   NaN      1   \n",
      "889                              Behr, Mr. Karl Howell    male  26.0      0   \n",
      "890                                Dooley, Mr. Patrick    male  32.0      0   \n",
      "\n",
      "     Parch            Ticket     Fare Cabin Embarked  \n",
      "0        0         A/5 21171   7.2500   NaN        S  \n",
      "1        0          PC 17599  71.2833   C85        C  \n",
      "2        0  STON/O2. 3101282   7.9250   NaN        S  \n",
      "3        0            113803  53.1000  C123        S  \n",
      "4        0            373450   8.0500   NaN        S  \n",
      "..     ...               ...      ...   ...      ...  \n",
      "886      0            211536  13.0000   NaN        S  \n",
      "887      0            112053  30.0000   B42        S  \n",
      "888      2        W./C. 6607  23.4500   NaN        S  \n",
      "889      0            111369  30.0000  C148        C  \n",
      "890      0            370376   7.7500   NaN        Q  \n",
      "\n",
      "[891 rows x 12 columns]\n",
      "<class 'pandas.core.frame.DataFrame'>\n",
      "RangeIndex: 891 entries, 0 to 890\n",
      "Data columns (total 12 columns):\n",
      " #   Column       Non-Null Count  Dtype  \n",
      "---  ------       --------------  -----  \n",
      " 0   PassengerId  891 non-null    int64  \n",
      " 1   Survived     891 non-null    int64  \n",
      " 2   Pclass       891 non-null    int64  \n",
      " 3   Name         891 non-null    object \n",
      " 4   Sex          891 non-null    object \n",
      " 5   Age          714 non-null    float64\n",
      " 6   SibSp        891 non-null    int64  \n",
      " 7   Parch        891 non-null    int64  \n",
      " 8   Ticket       891 non-null    object \n",
      " 9   Fare         891 non-null    float64\n",
      " 10  Cabin        204 non-null    object \n",
      " 11  Embarked     889 non-null    object \n",
      "dtypes: float64(2), int64(5), object(5)\n",
      "memory usage: 83.7+ KB\n",
      "None\n"
     ]
    }
   ],
   "source": [
    "import pandas as pd\n",
    "import numpy as np\n",
    "\n",
    "train_df = pd.read_csv('./data/train.csv')\n",
    "test_df = pd.read_csv('./data/test.csv')\n",
    "\n",
    "print(train_df)\n",
    "print(train_df.info())"
   ]
  },
  {
   "cell_type": "markdown",
   "id": "5a070c23-180d-493d-a67a-8664cd74c0d2",
   "metadata": {},
   "source": [
    "## Explore columns for missing/unusual data"
   ]
  },
  {
   "cell_type": "code",
   "execution_count": 3,
   "id": "530331a6-0cf7-4cb6-8f9a-bc748b9dd4ee",
   "metadata": {},
   "outputs": [
    {
     "data": {
      "text/plain": [
       "Index(['PassengerId', 'Survived', 'Pclass', 'Name', 'Sex', 'Age', 'SibSp',\n",
       "       'Parch', 'Ticket', 'Fare', 'Cabin', 'Embarked'],\n",
       "      dtype='object')"
      ]
     },
     "execution_count": 3,
     "metadata": {},
     "output_type": "execute_result"
    }
   ],
   "source": [
    "train_df.columns"
   ]
  },
  {
   "cell_type": "code",
   "execution_count": 27,
   "id": "6963442b-149a-43b1-9d4d-4f4e286c01b6",
   "metadata": {},
   "outputs": [
    {
     "name": "stdout",
     "output_type": "stream",
     "text": [
      "Embarked\n",
      "S      644\n",
      "C      168\n",
      "Q       77\n",
      "NaN      2\n",
      "Name: count, dtype: int64\n",
      "     PassengerId  Survived  Pclass                                       Name  \\\n",
      "61            62         1       1                        Icard, Miss. Amelie   \n",
      "829          830         1       1  Stone, Mrs. George Nelson (Martha Evelyn)   \n",
      "\n",
      "        Sex   Age  SibSp  Parch  Ticket  Fare Cabin Embarked  \n",
      "61   female  38.0      0      0  113572  80.0   B28      NaN  \n",
      "829  female  62.0      0      0  113572  80.0   B28      NaN  \n"
     ]
    }
   ],
   "source": [
    "allowed_vals = {'Survived': [0, 1]}\n",
    "\n",
    "train_df['Parch'].value_counts(dropna=False)\n",
    "print(train_df['Embarked'].value_counts(dropna=False))\n",
    "\n",
    "\n",
    "print(train_df[train_df['Embarked'].isnull()])"
   ]
  },
  {
   "cell_type": "code",
   "execution_count": 28,
   "id": "b8cc4d00-cbfb-4144-b4c0-f8c7c998296c",
   "metadata": {},
   "outputs": [
    {
     "name": "stdout",
     "output_type": "stream",
     "text": [
      "     PassengerId  Survived  Pclass  \\\n",
      "24            25         0       3   \n",
      "71            72         0       3   \n",
      "88            89         1       1   \n",
      "117          118         0       2   \n",
      "119          120         0       3   \n",
      "..           ...       ...     ...   \n",
      "876          877         0       3   \n",
      "879          880         1       1   \n",
      "880          881         1       2   \n",
      "885          886         0       3   \n",
      "888          889         0       3   \n",
      "\n",
      "                                              Name     Sex   Age  SibSp  \\\n",
      "24                   Palsson, Miss. Torborg Danira  female   8.0      3   \n",
      "71                      Goodwin, Miss. Lillian Amy  female  16.0      5   \n",
      "88                      Fortune, Miss. Mabel Helen  female  23.0      3   \n",
      "117                Turpin, Mr. William John Robert    male  29.0      1   \n",
      "119              Andersson, Miss. Ellis Anna Maria  female   2.0      4   \n",
      "..                                             ...     ...   ...    ...   \n",
      "876                  Gustafsson, Mr. Alfred Ossian    male  20.0      0   \n",
      "879  Potter, Mrs. Thomas Jr (Lily Alexenia Wilson)  female  56.0      0   \n",
      "880   Shelley, Mrs. William (Imanita Parrish Hall)  female  25.0      0   \n",
      "885           Rice, Mrs. William (Margaret Norton)  female  39.0      0   \n",
      "888       Johnston, Miss. Catherine Helen \"Carrie\"  female   NaN      1   \n",
      "\n",
      "     Parch      Ticket      Fare        Cabin Embarked  \n",
      "24       1      349909   21.0750          NaN        S  \n",
      "71       2     CA 2144   46.9000          NaN        S  \n",
      "88       2       19950  263.0000  C23 C25 C27        S  \n",
      "117      0       11668   21.0000          NaN        S  \n",
      "119      2      347082   31.2750          NaN        S  \n",
      "..     ...         ...       ...          ...      ...  \n",
      "876      0        7534    9.8458          NaN        S  \n",
      "879      1       11767   83.1583          C50        C  \n",
      "880      1      230433   26.0000          NaN        S  \n",
      "885      5      382652   29.1250          NaN        Q  \n",
      "888      2  W./C. 6607   23.4500          NaN        S  \n",
      "\n",
      "[210 rows x 12 columns]\n"
     ]
    }
   ],
   "source": [
    "print(train_df[train_df['Ticket'].duplicated()])"
   ]
  },
  {
   "cell_type": "markdown",
   "id": "e167a395-b4b9-433a-b21b-1a48e3807495",
   "metadata": {},
   "source": [
    "## Basic modelling\n",
    "Just using some simple features to train a tree based model"
   ]
  },
  {
   "cell_type": "code",
   "execution_count": 34,
   "id": "438b1b3f-0d14-4d38-95d3-ac94e14dac6d",
   "metadata": {},
   "outputs": [],
   "source": [
    "from sklearn.tree import DecisionTreeClassifier\n",
    "from sklearn.model_selection import train_test_split"
   ]
  },
  {
   "cell_type": "code",
   "execution_count": 35,
   "id": "f80d225a-626c-435f-a620-c42e543e34e3",
   "metadata": {},
   "outputs": [],
   "source": [
    "#['PassengerId', 'Survived', 'Pclass', 'Name', 'Sex', 'Age', 'SibSp', \n",
    "# 'Parch', 'Ticket', 'Fare', 'Cabin', 'Embarked']\n",
    "features = ['Pclass', 'Sex', 'Age']\n",
    "\n",
    "X = train_df[features]\n",
    "y = train_df['Survived']\n",
    "X_train, X_test, y_train, y_test = train_test_split(X, y, test_size=0.2, random_state=173, shuffle=True)"
   ]
  },
  {
   "cell_type": "code",
   "execution_count": null,
   "id": "58654422-8ff6-46bc-9665-f68983a45cf2",
   "metadata": {},
   "outputs": [],
   "source": [
    "## Model construction\n",
    "model = DecisionTreeClassifier()\n",
    "model.fit(X_train, y_train)\n",
    "predictions = model.predict(X_test)"
   ]
  }
 ],
 "metadata": {
  "kernelspec": {
   "display_name": "Python 3 (ipykernel)",
   "language": "python",
   "name": "python3"
  },
  "language_info": {
   "codemirror_mode": {
    "name": "ipython",
    "version": 3
   },
   "file_extension": ".py",
   "mimetype": "text/x-python",
   "name": "python",
   "nbconvert_exporter": "python",
   "pygments_lexer": "ipython3",
   "version": "3.11.7"
  }
 },
 "nbformat": 4,
 "nbformat_minor": 5
}
